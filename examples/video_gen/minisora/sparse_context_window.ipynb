{
 "cells": [
  {
   "cell_type": "code",
   "execution_count": 5,
   "metadata": {},
   "outputs": [],
   "source": [
    "import numpy as np\n",
    "import torch"
   ]
  },
  {
   "cell_type": "code",
   "execution_count": 147,
   "metadata": {},
   "outputs": [
    {
     "name": "stdout",
     "output_type": "stream",
     "text": [
      "(32768, 1)\n"
     ]
    }
   ],
   "source": [
    "# data = np.zeros((2, 8 * 64 * 64)) # 8, 64, 64))\n",
    "data = np.zeros((2, 8, 64, 64))\n",
    "meshgrid_args = [np.arange(s) for s in data.shape[1:]]\n",
    "positions = np.array(\n",
    "    np.meshgrid(\n",
    "        *meshgrid_args,\n",
    "        indexing=\"ij\"\n",
    "    ),\n",
    ")\n",
    "# move the first dimension to the end\n",
    "orig_shape = tuple(range(len(positions.shape)))\n",
    "transposed_shape = orig_shape[1:] + (orig_shape[0],)\n",
    "positions = positions.transpose(*transposed_shape)\n",
    "print(positions.shape)\n",
    "# print(positions[0, 0, 0])\n",
    "# print(positions[2, 1, 0])"
   ]
  },
  {
   "cell_type": "code",
   "execution_count": 148,
   "metadata": {},
   "outputs": [
    {
     "name": "stdout",
     "output_type": "stream",
     "text": [
      "(32768, 1)\n",
      "[0]\n",
      "[2]\n"
     ]
    }
   ],
   "source": [
    "positions_flat = positions.reshape(-1, positions.shape[-1])\n",
    "print(positions_flat.shape)\n",
    "print(positions_flat[0])\n",
    "print(positions_flat[2])"
   ]
  },
  {
   "cell_type": "code",
   "execution_count": 152,
   "metadata": {},
   "outputs": [
    {
     "name": "stdout",
     "output_type": "stream",
     "text": [
      "[9291 9290 9289 9054 6573 4090 6503 9098 5374 5279 7018 5764 5528 7146\n",
      " 3347 3649 4026 9217 4171 7626 8966 6710 7853 6517 4853 4597 7417 6524\n",
      " 3241 6474 8075 3539 7286 6941 6353 6738 4909 6575 7993 5243 3239 9125\n",
      " 5163 4379 9115 8463 7624 7566 4414 3456 9253 7436 7729 4214 9181 4872\n",
      " 8898 7778 3694 4640 8261 6046 8151 4741 9094 3805 6754 5339 7021 8266\n",
      " 5748 7790 4501 8842 8024 6714 7240 5550 4700 4610 4205 4626 7468 8690\n",
      " 5934 5888 9074 6511 4532 8968 8493 6942 5418 7557 5557 8320 6214 5604\n",
      " 8163 8177 6545 6352 3458 7701 9099 6306 9069 8073 3982 8913 4964 9162\n",
      " 3963 3232 5520 3976 5146 7838 9268 8974 6623 5684 6610 6284 8779 4833\n",
      " 8883 8585]\n",
      "target pos: [9291]\n",
      "nearest neighbor: [9290]\n",
      "nearest neighbor: [9289]\n",
      "relative pos: [[1]\n",
      " [2]]\n"
     ]
    }
   ],
   "source": [
    "def find_sparse_context_window(target_idx: int, positions, block_size, sparse_block_size):\n",
    "    # positions: (N, 3)\n",
    "    # target_idx: (3,)\n",
    "    # block_size: int\n",
    "    # returns: (block_size, 3)\n",
    "    # find the block_size closest points to the target_idx\n",
    "    # using the L2 distance\n",
    "    # look back at most block_size points\n",
    "    start_idx = max(0, target_idx - block_size)\n",
    "    target_position = positions[target_idx]\n",
    "    # print(\"target pos:\", target_position)\n",
    "    distances = np.linalg.norm(positions[start_idx:target_idx] - target_position, axis=1)\n",
    "    distances_exponential = np.exp(-distances)\n",
    "    distances_exponential += np.random.rand(*distances_exponential.shape) * 1e-1\n",
    "    \n",
    "    # print(distances.shape)\n",
    "    # print(\"distances:\", distances_exponential)\n",
    "    sorted_indices = np.argsort(-distances_exponential)\n",
    "    # print(\"sorted indices:\", sorted_indices)\n",
    "    context_token_idx = np.arange(start_idx, target_idx)[sorted_indices[:sparse_block_size]]\n",
    "    relative_pos = target_position - positions[context_token_idx]\n",
    "    return context_token_idx, relative_pos\n",
    "\n",
    "\n",
    "target_idx = 4096 * 2+ 1100 \n",
    "block_size = int(4096 * 1.5)\n",
    "sparse_block_size = 128\n",
    "\n",
    "context_token_idx, relative_pos = find_sparse_context_window(\n",
    "    target_idx,\n",
    "    positions_flat,\n",
    "    block_size,\n",
    "    sparse_block_size,\n",
    ")\n",
    "print(context_token_idx)\n",
    "print(\"target pos:\", positions_flat[target_idx-1])\n",
    "print(\"nearest neighbor:\", positions_flat[context_token_idx[0] - 1])\n",
    "print(\"nearest neighbor:\", positions_flat[context_token_idx[1] - 1])\n",
    "print(\"relative pos:\", relative_pos[0:2])"
   ]
  },
  {
   "cell_type": "code",
   "execution_count": 125,
   "metadata": {},
   "outputs": [
    {
     "name": "stdout",
     "output_type": "stream",
     "text": [
      "target pos: [ 2 17 12]\n",
      "0.0078125\n"
     ]
    },
    {
     "data": {
      "text/plain": [
       "<matplotlib.image.AxesImage at 0x7ff612298a90>"
      ]
     },
     "execution_count": 125,
     "metadata": {},
     "output_type": "execute_result"
    },
    {
     "data": {
      "image/png": "[encoded data removed]",
      "text/plain": [
       "<Figure size 720x360 with 2 Axes>"
      ]
     },
     "metadata": {
      "needs_background": "light"
     },
     "output_type": "display_data"
    }
   ],
   "source": [
    "# visualize the context window\n",
    "import matplotlib.pyplot as plt\n",
    "\n",
    "# plt.figure()\n",
    "target_pos = positions_flat[target_idx]\n",
    "print(\"target pos:\", target_pos)\n",
    "# last 2 dims of target_pos is the x, y coordinate\n",
    "# draw that in a 2D image\n",
    "\n",
    "frame = np.zeros((64, 64), dtype=np.uint8)\n",
    "previous_frame = frame.copy()\n",
    "frame[int(target_pos[1]), int(target_pos[2])] = 100\n",
    "\n",
    "# draw the context window\n",
    "context_positions = positions_flat[context_token_idx]\n",
    "context_positions = context_positions.astype(int)\n",
    "# print(\"context positions:\", context_positions)\n",
    "for pos in context_positions:\n",
    "    # print(f\"pos0={pos[0]}, target_pos0={target_pos[0]}\")\n",
    "    if int(pos[0]) == int(target_pos[0]):\n",
    "        frame[pos[1], pos[2]] = 255\n",
    "        # print(\"context pos:\", pos)\n",
    "    elif int(pos[0]) == int(target_pos[0]) - 1:\n",
    "        previous_frame[pos[1], pos[2]] = 100\n",
    "        \n",
    "\n",
    "print((frame != 0).mean())\n",
    "# do a subplot\n",
    "plt.figure(figsize=(10, 5))\n",
    "plt.subplot(1, 2, 1)\n",
    "plt.imshow(255 - previous_frame, cmap=\"gray\")\n",
    "plt.subplot(1, 2, 2)\n",
    "plt.imshow(255 - frame, cmap=\"gray\")"
   ]
  },
  {
   "cell_type": "code",
   "execution_count": 107,
   "metadata": {},
   "outputs": [],
   "source": [
    "def pad_seq(context_idx, sparse_block_size, value=-1):\n",
    "    # context_idx: (sparse_block_size,)\n",
    "    # returns: (sparse_block_size,)\n",
    "    # pad the context_idx to the sparse_block_size\n",
    "    padded = np.ones((sparse_block_size,), dtype=np.int64) * value\n",
    "    padded[:len(context_idx)] = context_idx\n",
    "    return padded"
   ]
  },
  {
   "cell_type": "code",
   "execution_count": 141,
   "metadata": {},
   "outputs": [
    {
     "name": "stderr",
     "output_type": "stream",
     "text": [
      "  0%|          | 101/32768 [00:00<00:02, 12247.03it/s]"
     ]
    },
    {
     "name": "stdout",
     "output_type": "stream",
     "text": [
      "target_idx: 0 target_pos: [0 0 0]\n",
      "context position [[-1 -1 -1]\n",
      " [-1 -1 -1]\n",
      " [-1 -1 -1]]\n",
      "relative pos: [[0. 0. 0.]\n",
      " [0. 0. 0.]\n",
      " [0. 0. 0.]]\n",
      "context tokens: [-1 -1 -1]\n",
      "--------------------------------------------------\n",
      "target_idx: 2 target_pos: [0 0 2]\n",
      "context position [[ 0  0  1]\n",
      " [ 0  0  0]\n",
      " [-1 -1 -1]]\n",
      "relative pos: [[0. 0. 1.]\n",
      " [0. 0. 2.]\n",
      " [0. 0. 0.]]\n",
      "context tokens: [ 1  0 -1]\n",
      "--------------------------------------------------\n",
      "(102, 128, 3)\n",
      "(102, 128)\n"
     ]
    },
    {
     "name": "stderr",
     "output_type": "stream",
     "text": [
      "\n"
     ]
    }
   ],
   "source": [
    "from tqdm.auto import tqdm\n",
    "\n",
    "block_size = int(4096 * 1.5)\n",
    "sparse_block_size = 128\n",
    "\n",
    "tokens_flat = np.arange(len(positions_flat))\n",
    "tokens_flat_padded = np.concatenate(\n",
    "    [np.ones((1,), dtype=np.int64) * -1,\n",
    "    tokens_flat],\n",
    "    axis=0,\n",
    ")\n",
    "positions_flat_padded = np.concatenate(\n",
    "    [np.ones((1, 3), dtype=np.int64) * -1,\n",
    "    positions_flat],\n",
    "    axis=0,\n",
    ")\n",
    "# print(positions_flat_padded)\n",
    "\n",
    "\n",
    "relative_pos_lut = []\n",
    "context_token_idx_lut = []\n",
    "for target_idx in tqdm(range(len(positions_flat))):\n",
    "    context_token_idx, relative_pos = find_sparse_context_window(\n",
    "        target_idx,\n",
    "        positions_flat,\n",
    "        block_size,\n",
    "        sparse_block_size,\n",
    "    )\n",
    "    relative_pos_padded = np.concatenate(\n",
    "        [relative_pos, np.zeros((sparse_block_size - len(relative_pos), 3))],\n",
    "        axis=0,\n",
    "    )\n",
    "    # This assumes the positions and tokens will be inserted with a start token\n",
    "    context_token_idx_padded = pad_seq(context_token_idx, sparse_block_size) + 1\n",
    "    if target_idx in [0, 2]:\n",
    "        print(\"target_idx:\", target_idx, \"target_pos:\", positions_flat[target_idx])\n",
    "        # print(\"context token idx padded:\", context_token_idx_padded)\n",
    "        print(\"context position\", positions_flat_padded[context_token_idx_padded[0:3]])\n",
    "        print(\"relative pos:\", relative_pos_padded[:3])\n",
    "        print(\"context tokens:\", tokens_flat_padded[context_token_idx_padded[0:3]])\n",
    "        print(\"-\" * 50)\n",
    "    \n",
    "    relative_pos_lut.append(relative_pos_padded)\n",
    "    context_token_idx_lut.append(context_token_idx_padded)\n",
    "\n",
    "    if target_idx > 100:\n",
    "        break\n",
    "\n",
    "relative_pos_lut = np.stack(relative_pos_lut, axis=0)\n",
    "context_token_idx_lut = np.stack(context_token_idx_lut, axis=0)\n",
    "print(relative_pos_lut.shape)\n",
    "print(context_token_idx_lut.shape)"
   ]
  },
  {
   "cell_type": "code",
   "execution_count": 160,
   "metadata": {},
   "outputs": [
    {
     "name": "stdout",
     "output_type": "stream",
     "text": [
      "tensor([0, 1])\n",
      "[0]\n"
     ]
    },
    {
     "data": {
      "text/plain": [
       "tensor([0])"
      ]
     },
     "execution_count": 160,
     "metadata": {},
     "output_type": "execute_result"
    }
   ],
   "source": [
    "x = torch.concatenate([torch.tensor([0]), torch.tensor([1])])\n",
    "print(x)\n",
    "idx = np.zeros((1,)).astype(int)\n",
    "print(idx)\n",
    "x[idx]"
   ]
  }
 ],
 "metadata": {
  "kernelspec": {
   "display_name": "cv",
   "language": "python",
   "name": "python3"
  },
  "language_info": {
   "codemirror_mode": {
    "name": "ipython",
    "version": 3
   },
   "file_extension": ".py",
   "mimetype": "text/x-python",
   "name": "python",
   "nbconvert_exporter": "python",
   "pygments_lexer": "ipython3",
   "version": "3.8.13"
  }
 },
 "nbformat": 4,
 "nbformat_minor": 2
}
