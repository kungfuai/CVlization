{
 "cells": [
  {
   "cell_type": "code",
   "execution_count": 1,
   "metadata": {},
   "outputs": [
    {
     "name": "stdout",
     "output_type": "stream",
     "text": [
      "timesteps max and min: tensor(999) tensor(0)\n",
      "tensor([999, 998, 997, 996, 995, 994, 993, 992, 991, 990])\n"
     ]
    }
   ],
   "source": [
    "from diffusers import DDPMScheduler\n",
    "\n",
    "scheduler = DDPMScheduler(num_train_timesteps=1000, beta_start=0.0001, beta_end=0.02)\n",
    "print(\"timesteps max and min:\", scheduler.timesteps.max(), scheduler.timesteps.min())\n",
    "print(scheduler.timesteps[:10])\n"
   ]
  },
  {
   "cell_type": "code",
   "execution_count": 2,
   "metadata": {},
   "outputs": [
    {
     "name": "stderr",
     "output_type": "stream",
     "text": [
      "2024-10-05 20:40:46.300366: I tensorflow/core/util/port.cc:110] oneDNN custom operations are on. You may see slightly different numerical results due to floating-point round-off errors from different computation orders. To turn them off, set the environment variable `TF_ENABLE_ONEDNN_OPTS=0`.\n",
      "2024-10-05 20:40:46.343350: I tensorflow/core/platform/cpu_feature_guard.cc:182] This TensorFlow binary is optimized to use available CPU instructions in performance-critical operations.\n",
      "To enable the following instructions: AVX512F AVX512_VNNI, in other operations, rebuild TensorFlow with the appropriate compiler flags.\n",
      "/usr/lib/python3/dist-packages/scipy/__init__.py:146: UserWarning: A NumPy version >=1.17.3 and <1.25.0 is required for this version of SciPy (detected version 1.25.2\n",
      "  warnings.warn(f\"A NumPy version >={np_minversion} and <{np_maxversion}\"\n",
      "2024-10-05 20:40:48,516 - datasets - INFO - PyTorch version 2.0.1 available. (config.py:54)\n",
      "2024-10-05 20:40:48,517 - datasets - INFO - TensorFlow version 2.13.1 available. (config.py:101)\n",
      "2024-10-05 20:40:48,518 - datasets - INFO - JAX version 0.4.14 available. (config.py:114)\n"
     ]
    },
    {
     "name": "stdout",
     "output_type": "stream",
     "text": [
      "betas: tensor([1.0000e-04, 1.1992e-04, 1.3984e-04, 1.5976e-04, 1.7968e-04, 1.9960e-04,\n",
      "        2.1952e-04, 2.3944e-04, 2.5936e-04, 2.7928e-04])\n",
      "alphas: tensor([0.9999, 0.9999, 0.9999, 0.9998, 0.9998, 0.9998, 0.9998, 0.9998, 0.9997,\n",
      "        0.9997])\n",
      "alphas_cumprod: tensor([0.9999, 0.9998, 0.9996, 0.9995, 0.9993, 0.9991, 0.9989, 0.9986, 0.9984,\n",
      "        0.9981])\n"
     ]
    }
   ],
   "source": [
    "import sys\n",
    "import torch\n",
    "sys.path.append(\"../../../\")\n",
    "\n",
    "from train5 import denoising_step, forward_diffusion\n",
    "\n",
    "num_timesteps = 1000\n",
    "betas = torch.linspace(1e-4, 0.02, num_timesteps)\n",
    "alphas = 1 - betas\n",
    "alphas_cumprod = torch.cumprod(alphas, dim=0)\n",
    "noise_schedule = {\n",
    "    \"betas\": betas,\n",
    "    \"alphas\": alphas,\n",
    "    \"alphas_cumprod\": alphas_cumprod,\n",
    "}\n",
    "print(\"betas:\", betas[:10])\n",
    "print(\"alphas:\", alphas[:10])\n",
    "print(\"alphas_cumprod:\", alphas_cumprod[:10])\n"
   ]
  },
  {
   "cell_type": "code",
   "execution_count": 3,
   "metadata": {},
   "outputs": [],
   "source": [
    "# create a dummy denoising model\n",
    "class DummyDenoisingModel(torch.nn.Module):\n",
    "    def __init__(self):\n",
    "        super().__init__()\n",
    "        self.net = torch.nn.Linear(10, 10)\n",
    "    \n",
    "    def forward(self, x, t):\n",
    "        return self.net(x)\n",
    "\n",
    "\n",
    "torch.manual_seed(10)\n",
    "denoising_model = DummyDenoisingModel()"
   ]
  },
  {
   "cell_type": "code",
   "execution_count": 4,
   "metadata": {},
   "outputs": [
    {
     "data": {
      "text/plain": [
       "(array([ 0.66135216,  0.2669241 ,  0.06167726,  0.6213173 , -0.45190597,\n",
       "        -0.16613023, -1.5227685 ,  0.38168392, -1.0276086 , -0.5630528 ],\n",
       "       dtype=float32),\n",
       " array([-0.89229053, -0.05825018, -0.19550958, -0.96563596,  0.42241532,\n",
       "         0.267317  , -0.42119515, -0.5107    , -1.5726652 , -0.12324776],\n",
       "       dtype=float32))"
      ]
     },
     "execution_count": 4,
     "metadata": {},
     "output_type": "execute_result"
    }
   ],
   "source": [
    "torch.manual_seed(1)\n",
    "X = torch.randn(1, 10)\n",
    "noise = torch.randn_like(X)\n",
    "X.numpy()[0], noise.numpy()[0]"
   ]
  },
  {
   "cell_type": "code",
   "execution_count": 5,
   "metadata": {},
   "outputs": [
    {
     "name": "stdout",
     "output_type": "stream",
     "text": [
      "x_t mean: -0.1738511174917221\n",
      "t: 0\n",
      "model_output mean: 0.1872388869524002\n",
      "pred_original_sample mean (before clipping): -0.17573246359825134\n",
      "alpha_prod_t 0.9998999834060669\n",
      "alpha_prod_t_prev 1.0\n",
      "beta_prod_t 0.00010001659393310547\n",
      "beta_prod_t_prev 0.0\n",
      "current_alpha_t 0.9998999834060669\n",
      "current_beta_t 0.00010001659393310547\n",
      "pred_original_sample mean -0.12070973962545395\n",
      "pred_original_sample_coeff 1.0\n",
      "current_sample_coeff 0.0\n",
      "sample: [ 0.66127455  0.2645179   0.05515494  0.62613356 -0.45403624 -0.16315319\n",
      " -1.          0.36983928 -1.         -0.56682825]\n"
     ]
    }
   ],
   "source": [
    "torch.manual_seed(0)\n",
    "t = 0\n",
    "\n",
    "with torch.no_grad():\n",
    "    sample = denoising_step(\n",
    "        denoising_model=denoising_model,\n",
    "        x_t=X,\n",
    "        t=t,\n",
    "        noise_schedule=noise_schedule,\n",
    "    )\n",
    "    print(\"sample:\", sample.numpy()[0, 0, 0])\n"
   ]
  },
  {
   "cell_type": "code",
   "execution_count": 6,
   "metadata": {},
   "outputs": [
    {
     "name": "stdout",
     "output_type": "stream",
     "text": [
      "x_t mean: -0.1738511174917221\n",
      "t: 0\n",
      "model_output mean: 0.1872388869524002\n",
      "pred_original_sample mean (before clipping): -0.17573246359825134\n",
      "thresholding: False\n",
      "clip_sample: True\n",
      "alpha_prod_t 0.9998999834060669\n",
      "alpha_prod_t_prev 1.0\n",
      "beta_prod_t 0.00010001659393310547\n",
      "beta_prod_t_prev 0.0\n",
      "current_alpha_t 0.9998999834060669\n",
      "current_beta_t 0.00010001659393310547\n",
      "pred_original_sample mean: -0.12070973962545395\n",
      "pred_prev_sample mean: -0.12070973962545395\n",
      "current_sample_coeff: 0.0\n",
      "sample: [ 0.66127455  0.2645179   0.05515494  0.62613356 -0.45403624 -0.16315319\n",
      " -1.          0.36983928 -1.         -0.56682825]\n"
     ]
    }
   ],
   "source": [
    "# Would diffuser scheduler's step function be the same as the one we implemented?\n",
    "torch.manual_seed(0)\n",
    "model_output = denoising_model(X, torch.tensor(t))\n",
    "with torch.no_grad():\n",
    "    step_output = scheduler.step(model_output=model_output, timestep=t, sample=X)\n",
    "    print(\"sample:\", step_output.prev_sample.numpy()[0])"
   ]
  },
  {
   "cell_type": "markdown",
   "metadata": {},
   "source": [
    "## Also check if DDPMScheduler's add_noise function is the same as forward_diffusion function"
   ]
  },
  {
   "cell_type": "code",
   "execution_count": 7,
   "metadata": {},
   "outputs": [
    {
     "data": {
      "text/plain": [
       "tensor([[ 0.6480,  0.2660,  0.0588,  0.6069, -0.4456, -0.1621, -1.5288,  0.3741,\n",
       "         -1.0508, -0.5648]])"
      ]
     },
     "execution_count": 7,
     "metadata": {},
     "output_type": "execute_result"
    }
   ],
   "source": [
    "noised = scheduler.add_noise(original_samples=X, noise=noise, timesteps=torch.tensor(1))\n",
    "noised\n"
   ]
  },
  {
   "cell_type": "code",
   "execution_count": 8,
   "metadata": {},
   "outputs": [
    {
     "data": {
      "text/plain": [
       "(tensor([[[[ 0.6480,  0.2660,  0.0588,  0.6069, -0.4456, -0.1621, -1.5288,\n",
       "             0.3741, -1.0508, -0.5648]]]]),\n",
       " tensor([[-0.8923, -0.0583, -0.1955, -0.9656,  0.4224,  0.2673, -0.4212, -0.5107,\n",
       "          -1.5727, -0.1232]]))"
      ]
     },
     "execution_count": 8,
     "metadata": {},
     "output_type": "execute_result"
    }
   ],
   "source": [
    "forward_diffusion(x_0=X, t=torch.tensor(1), noise_schedule=noise_schedule, noise=noise)"
   ]
  }
 ],
 "metadata": {
  "kernelspec": {
   "display_name": "Python 3",
   "language": "python",
   "name": "python3"
  },
  "language_info": {
   "codemirror_mode": {
    "name": "ipython",
    "version": 3
   },
   "file_extension": ".py",
   "mimetype": "text/x-python",
   "name": "python",
   "nbconvert_exporter": "python",
   "pygments_lexer": "ipython3",
   "version": "3.10.12"
  }
 },
 "nbformat": 4,
 "nbformat_minor": 2
}
